{
 "cells": [
  {
   "cell_type": "code",
   "execution_count": 1,
   "id": "67fa5bae-99df-424e-b8a4-dbadf4f44fa9",
   "metadata": {},
   "outputs": [
    {
     "name": "stderr",
     "output_type": "stream",
     "text": [
      "/ext3/miniconda3/lib/python3.9/site-packages/tqdm/auto.py:22: TqdmWarning: IProgress not found. Please update jupyter and ipywidgets. See https://ipywidgets.readthedocs.io/en/stable/user_install.html\n",
      "  from .autonotebook import tqdm as notebook_tqdm\n"
     ]
    }
   ],
   "source": [
    "from CNOModule import CNO\n",
    "import torch\n",
    "from torch.utils.data import Dataset, DataLoader\n",
    "from scipy.io import loadmat"
   ]
  },
  {
   "cell_type": "code",
   "execution_count": 2,
   "id": "21e8b62a-d056-46dd-9b35-697b4905c6b1",
   "metadata": {},
   "outputs": [
    {
     "name": "stdout",
     "output_type": "stream",
     "text": [
      "Using CUDA for tensor operations\n"
     ]
    }
   ],
   "source": [
    "if torch.cuda.is_available():\n",
    "    # Set the default device to CUDA\n",
    "    device = torch.device('cuda')\n",
    "    #torch.set_default_device(device)\n",
    "    print('Using CUDA for tensor operations')\n",
    "    torch.cuda.empty_cache()\n",
    "else:\n",
    "    device = torch.device('cpu')\n",
    "    print('CUDA is not available. Using CPU for tensor operations')"
   ]
  },
  {
   "cell_type": "code",
   "execution_count": 3,
   "id": "d1a10765-8fb5-4395-a30c-75c98d7b3443",
   "metadata": {},
   "outputs": [],
   "source": [
    "class CustomDataset(Dataset):\n",
    "    def __init__(self, x_data, y_data):\n",
    "        self.x_data = x_data\n",
    "        self.y_data = y_data\n",
    "        \n",
    "    def __len__(self):\n",
    "        return len(self.x_data)\n",
    "    \n",
    "    def __getitem__(self, idx):\n",
    "        x = self.x_data[idx]\n",
    "        y = self.y_data[idx]\n",
    "        return x, y"
   ]
  },
  {
   "cell_type": "code",
   "execution_count": 4,
   "id": "4ea2ed7e-3633-4584-b3a0-c6a0da4bb341",
   "metadata": {},
   "outputs": [],
   "source": [
    "NavierStokes_mat = loadmat('../NavierStokes_V1e-5_N1200_T20.mat')"
   ]
  },
  {
   "cell_type": "code",
   "execution_count": 5,
   "id": "e7d52770-0486-4866-ba0f-e9979b4aade0",
   "metadata": {},
   "outputs": [],
   "source": [
    "# Assuming NavierStokes_mat['u'] and NavierStokes_mat['a'] are numpy arrays\n",
    "u_numpy = NavierStokes_mat['u']\n",
    "a_numpy = NavierStokes_mat['a']\n",
    "\n",
    "# Convert numpy arrays to PyTorch tensors\n",
    "u_tensor = torch.tensor(u_numpy)\n",
    "a_tensor = torch.tensor(a_numpy)\n",
    "\n",
    "# Concatenate along the desired dimension\n",
    "concatenated_tensor = torch.cat((u_tensor[:,:,:,:10], a_tensor.unsqueeze(-1)), dim=-1).permute(0, 3, 1, 2).to(device)\n",
    "result_tensor = u_tensor[:,:,:,:10].permute(0, 3, 1, 2).to(device)"
   ]
  },
  {
   "cell_type": "code",
   "execution_count": 6,
   "id": "bbcc1fb2-cad5-4dfb-87a7-8e5d9830dd78",
   "metadata": {},
   "outputs": [],
   "source": [
    "# Assuming you have concatenated_tensor as x_data and result_tensor as y_data\n",
    "my_dataset = CustomDataset(concatenated_tensor, result_tensor)"
   ]
  },
  {
   "cell_type": "code",
   "execution_count": 7,
   "id": "cb49b8af-da87-4770-9f38-07f9854e07a7",
   "metadata": {},
   "outputs": [],
   "source": [
    "# Define your DataLoader\n",
    "batch_size = 64  # Adjust batch size as needed\n",
    "train_loader = DataLoader(my_dataset, batch_size=batch_size, shuffle=True)"
   ]
  },
  {
   "cell_type": "markdown",
   "id": "1cc5e47e-6ceb-433b-9743-20520ffb21df",
   "metadata": {},
   "source": [
    "# CNO"
   ]
  },
  {
   "cell_type": "code",
   "execution_count": null,
   "id": "f9cb1469-161e-4d81-9c27-a58a8c25c32f",
   "metadata": {},
   "outputs": [
    {
     "name": "stdout",
     "output_type": "stream",
     "text": [
      "Setting up PyTorch plugin \"filtered_lrelu_plugin\"... Done.\n",
      "Epoch [10/2000], Training Loss: 5.27815131e-03 \n",
      "Epoch [20/2000], Training Loss: 3.65142100e-03 \n",
      "Epoch [30/2000], Training Loss: 2.63211034e-03 \n"
     ]
    }
   ],
   "source": [
    "# Define your training parameters\n",
    "learning_rate = 0.001\n",
    "num_epochs = 2000  # Adjust as needed\n",
    "\n",
    "#train_loader = data_loader\n",
    "#test_loader = data_loader\n",
    "\n",
    "# Initialize your model\n",
    "model = CNO(in_dim  = 11,\n",
    "            out_dim = 10, # Number of input channels.\n",
    "            N_layers = 5,\n",
    "            in_size = 64,\n",
    "            out_size = 64).to(device).to(device)\n",
    "\n",
    "# Define loss function and optimizer\n",
    "criterion = torch.nn.MSELoss()\n",
    "optimizer = torch.optim.Adam(model.parameters(), lr=learning_rate)\n",
    "\n",
    "# Training loop\n",
    "for epoch in range(num_epochs):\n",
    "    # Training\n",
    "    model.train()\n",
    "    running_loss = 0.0\n",
    "\n",
    "    # Iterate over batches\n",
    "    for batch_data, batch_targets in train_loader:\n",
    "        # Move data to device\n",
    "        batch_data, batch_targets = batch_data.to(device), batch_targets.to(device)\n",
    "\n",
    "        # Zero the parameter gradients\n",
    "        optimizer.zero_grad()\n",
    "\n",
    "        # Forward pass\n",
    "        outputs = model(batch_data)\n",
    "\n",
    "        # Compute the loss\n",
    "        loss = criterion(outputs, batch_targets)\n",
    "\n",
    "        # Backward pass and optimize\n",
    "        loss.backward()\n",
    "        optimizer.step()\n",
    "\n",
    "        running_loss += loss.item()\n",
    "\n",
    "    # Calculate average training loss for the epoch\n",
    "    train_loss = running_loss / len(train_loader)\n",
    "\n",
    "    if (epoch + 1) % 10 == 0:\n",
    "        # Print the loss for each epoch\n",
    "        print(f'Epoch [{epoch + 1}/{num_epochs}], '\n",
    "              f'Training Loss: {train_loss:.8e} ')\n",
    "\n",
    "print('Finished Training')"
   ]
  }
 ],
 "metadata": {
  "kernelspec": {
   "display_name": "my_env",
   "language": "python",
   "name": "my_env"
  },
  "language_info": {
   "codemirror_mode": {
    "name": "ipython",
    "version": 3
   },
   "file_extension": ".py",
   "mimetype": "text/x-python",
   "name": "python",
   "nbconvert_exporter": "python",
   "pygments_lexer": "ipython3",
   "version": "3.9.15"
  }
 },
 "nbformat": 4,
 "nbformat_minor": 5
}
